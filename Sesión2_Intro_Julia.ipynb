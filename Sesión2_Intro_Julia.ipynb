{
 "cells": [
  {
   "cell_type": "markdown",
   "id": "d79af3d6-313b-4e89-ab8a-232237fc8215",
   "metadata": {},
   "source": [
    "# Bucles y condicionales en Julia\n",
    "\n",
    "# Objetivo\n",
    "* Aprender comandos basicos asociados a bucles y condicionales en Julia\n",
    "\n",
    "# Enlaces recomendados\n",
    "\n",
    "Es un lenguaje de programación multiplataforma, dinámico de alto desempeño de acceso abierto que se aha convertido en una herramienta de uso común en ciencia de datos. Mayor información en el sitio web oficial: [Julia Homepage](https://julialang.org/)\n",
    "\n",
    "Esta guía introductoria esta basada en la sesión introductoria ofrecidade Julia Academia, todos los notebooks de la sesión estan disponibles en Github: \n",
    "\n",
    "1. [Introduction-to-Julia](https://github.com/JuliaAcademy/Introduction-to-Julia)\n",
    "\n",
    "Puedes accesar a sesiones gratuitas y mucha información adicional a través de los siguientes enlaces:\n",
    "\n",
    "1. [Julia Academy](https://julialang.org/learning/)\n",
    "2. [The Julia Programming Language:Youtube](https://www.youtube.com/user/JuliaLanguage/playlists)\n",
    "3. [The Julia Language Blog](https://julialang.org/blog/)\n",
    "3. [Community Standards](https://julialang.org/community/)\n",
    "4. [Julia 1.6 Documentation](https://docs.julialang.org/en/v1/)\n",
    "\n",
    "Comencemos con algunos aspectos básicos.\n",
    "\n",
    "## Comandos básicos\n",
    "\n",
    "Abordaremos dos condicionales: (i) `for` y (ii) `while`.\n",
    "\n",
    "## Loops - for"
   ]
  },
  {
   "cell_type": "code",
   "execution_count": 32,
   "id": "3a280412-5732-4ab7-bf9a-22492ea03205",
   "metadata": {},
   "outputs": [
    {
     "name": "stdout",
     "output_type": "stream",
     "text": [
      "El azul es un color primario\n",
      "El amarillo es un color primario\n",
      "El rojo es un color primario\n"
     ]
    }
   ],
   "source": [
    "colores= [\"azul\", \"amarillo\", \"rojo\"]\n",
    "for color in colores\n",
    "    println(\"El $color es un color primario\")\n",
    "end"
   ]
  },
  {
   "cell_type": "markdown",
   "id": "06c65820-27f0-4937-b3f5-cb9d6f435a70",
   "metadata": {},
   "source": [
    "El operador `in` no es el único que para definir el rango de variación de nuestra variable: también podemos utulizar: (i) `=` y (ii) `∈`"
   ]
  },
  {
   "cell_type": "code",
   "execution_count": 12,
   "id": "93bcb522-2954-4f2a-a09d-04f7f94b43c2",
   "metadata": {},
   "outputs": [
    {
     "name": "stdout",
     "output_type": "stream",
     "text": [
      "El azul es un color primario\n",
      "El amarillo es un color primario\n",
      "El rojo es un color primario\n"
     ]
    }
   ],
   "source": [
    "colores= [\"azul\", \"amarillo\", \"rojo\"]\n",
    "for color = colores\n",
    "    println(\"El $color es un color primario\")\n",
    "end"
   ]
  },
  {
   "cell_type": "code",
   "execution_count": 13,
   "id": "57232816-6814-4af9-a5f3-8b69edcc4bd0",
   "metadata": {},
   "outputs": [
    {
     "name": "stdout",
     "output_type": "stream",
     "text": [
      "El azul es un color primario\n",
      "El amarillo es un color primario\n",
      "El rojo es un color primario\n"
     ]
    }
   ],
   "source": [
    "colores= [\"azul\", \"amarillo\", \"rojo\"]\n",
    "for color ∈ colores\n",
    "    println(\"El $color es un color primario\")\n",
    "end"
   ]
  },
  {
   "cell_type": "code",
   "execution_count": 9,
   "id": "6ecdd6a6-8364-4bdf-8ddc-1e2257c494f0",
   "metadata": {},
   "outputs": [
    {
     "name": "stdout",
     "output_type": "stream",
     "text": [
      "1\n",
      "2\n",
      "3\n",
      "4\n",
      "5\n",
      "6\n",
      "7\n",
      "8\n",
      "9\n",
      "10\n"
     ]
    }
   ],
   "source": [
    "for n=1:10\n",
    "    println(n)\n",
    "end"
   ]
  },
  {
   "cell_type": "markdown",
   "id": "591a8f90-e1cc-4d81-829e-d3efd2a465cd",
   "metadata": {},
   "source": [
    "## Loops - while\n",
    "\n",
    "La estructura en Julia para este tipo de condicionales es la siguiente:\n",
    "\n",
    "        `while \"condicional\"\n",
    "            estructura del loop\n",
    "         end`"
   ]
  },
  {
   "cell_type": "code",
   "execution_count": 38,
   "id": "4da7d03e-3132-4ac8-a371-a4f5231a5e5c",
   "metadata": {},
   "outputs": [
    {
     "name": "stdout",
     "output_type": "stream",
     "text": [
      "15\n",
      "14\n",
      "13\n",
      "12\n",
      "11\n",
      "10\n",
      "9\n",
      "8\n",
      "7\n",
      "6\n"
     ]
    }
   ],
   "source": [
    "A=15\n",
    "while A > 5\n",
    "    println(A)\n",
    "    A-=1\n",
    "end"
   ]
  },
  {
   "cell_type": "markdown",
   "id": "2632e53c-268d-4b01-a1ed-95cd3af1f42d",
   "metadata": {},
   "source": [
    "## Condicionales\n",
    "\n",
    "La estructura en Julia para este tipo de condicionales es la siguiente:\n",
    "\n",
    "        `if \"condición 1\"\n",
    "             opción 1\n",
    "         elseif \"condición 2\"\n",
    "             opción 2\n",
    "         else\n",
    "             opción 3\n",
    "         end`\n",
    "         \n",
    "Veamos algunos ejemplos"
   ]
  },
  {
   "cell_type": "code",
   "execution_count": 26,
   "id": "f4f36127-3871-4bcf-b7fc-98ac4a041b77",
   "metadata": {},
   "outputs": [
    {
     "name": "stdout",
     "output_type": "stream",
     "text": [
      "40 es un numero par\n"
     ]
    }
   ],
   "source": [
    "x=40\n",
    "\n",
    "if x % 2 ==0\n",
    "    println(\"$x es un numero par\")\n",
    "else\n",
    "    println(\"$x es un numero impar\")\n",
    "end"
   ]
  },
  {
   "cell_type": "markdown",
   "id": "4efdb6cc-8956-4961-9cee-a9f888b17fc7",
   "metadata": {},
   "source": [
    "Otra alternativa para obtener la misma repsuesta del ejemplo anterior es la siguiente:"
   ]
  },
  {
   "cell_type": "code",
   "execution_count": 27,
   "id": "4bb91200-13f3-4909-b369-a8bdbdfbcc11",
   "metadata": {},
   "outputs": [
    {
     "name": "stdout",
     "output_type": "stream",
     "text": [
      "40 es un numero par\n"
     ]
    }
   ],
   "source": [
    "(x % 2==0) ? println(\"$x es un numero par\") : println(\"$x es un numero impar\")"
   ]
  },
  {
   "cell_type": "markdown",
   "id": "5cddff3c-11b8-4c68-b24f-eccce4501f55",
   "metadata": {},
   "source": [
    "Un ejemplo de sintaxis útil para comparar variables utiliza la siguiente sintaxis:\n",
    "        `a && b`\n",
    "Donde `b` solo se ejecutara si `a` es verdadera. "
   ]
  },
  {
   "cell_type": "code",
   "execution_count": 28,
   "id": "898ae2f6-8dbb-4ee1-8d3a-531fd5c74a21",
   "metadata": {},
   "outputs": [
    {
     "name": "stdout",
     "output_type": "stream",
     "text": [
      "40 es un numero par\n"
     ]
    }
   ],
   "source": [
    "(x % 2==0) && println(\"$x es un numero par\") "
   ]
  },
  {
   "cell_type": "code",
   "execution_count": 29,
   "id": "95f6bcbe-e304-4039-b1bf-57b51a733069",
   "metadata": {},
   "outputs": [
    {
     "data": {
      "text/plain": [
       "false"
      ]
     },
     "execution_count": 29,
     "metadata": {},
     "output_type": "execute_result"
    }
   ],
   "source": [
    "(3 % 2==0) && println(\"$x es un numero par\") "
   ]
  },
  {
   "cell_type": "markdown",
   "id": "9d73ee21-6927-44dd-9cc4-2b382d304321",
   "metadata": {},
   "source": [
    "# Referencias\n",
    "\n",
    "1. JuliaAcademy: [Loops](https://github.com/JuliaAcademy/Introduction-to-Julia/blob/main/3%20-%20Loops.ipynb)\n",
    "2. JuliaAcademy: [Conditionals](https://github.com/JuliaAcademy/Introduction-to-Julia/blob/main/4%20-%20Conditionals.ipynb)"
   ]
  }
 ],
 "metadata": {
  "kernelspec": {
   "display_name": "Julia 1.6.3",
   "language": "julia",
   "name": "julia-1.6"
  },
  "language_info": {
   "file_extension": ".jl",
   "mimetype": "application/julia",
   "name": "julia",
   "version": "1.6.3"
  },
  "toc-autonumbering": false,
  "toc-showcode": false,
  "toc-showmarkdowntxt": false
 },
 "nbformat": 4,
 "nbformat_minor": 5
}
