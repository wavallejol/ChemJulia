{
 "cells": [
  {
   "cell_type": "markdown",
   "id": "d79af3d6-313b-4e89-ab8a-232237fc8215",
   "metadata": {},
   "source": [
    "# Introducción Julia\n",
    "\n",
    "# Objetivos\n",
    "* Conocer el entorno JupyterLab\n",
    "* Aprender comandos basicos de programación en Julia\n",
    "\n",
    "# Enlaces recomendados\n",
    "\n",
    "Es un lenguaje de programación multiplataforma, dinámico de alto desempeño de acceso abierto que se aha convertido en una herramienta de uso común en ciencia de datos. Mayor información en el sitio web oficial: [Julia Homepage](https://julialang.org/)\n",
    "\n",
    "Esta guía introductoria esta basada en la sesión introductoria ofrecidade Julia Academia, todos los notebooks de la sesión estan disponibles en Github: \n",
    "\n",
    "1. [Introduction-to-Julia](https://github.com/JuliaAcademy/Introduction-to-Julia)\n",
    "\n",
    "Puedes accesar a sesiones gratuitas y mucha información adicional a través de los siguientes enlaces:\n",
    "\n",
    "1. [Julia Academy](https://julialang.org/learning/)\n",
    "2. [The Julia Programming Language:Youtube](https://www.youtube.com/user/JuliaLanguage/playlists)\n",
    "3. [The Julia Language Blog](https://julialang.org/blog/)\n",
    "3. [Community Standards](https://julialang.org/community/)\n",
    "4. [Julia 1.6 Documentation](https://docs.julialang.org/en/v1/)\n",
    "\n",
    "Comencemos con algunos aspectos básicos.\n",
    "\n",
    "## Comandos básicos\n",
    "\n",
    "Julia utiliza el comando `println(\"\")` para presenar las sálidas"
   ]
  },
  {
   "cell_type": "code",
   "execution_count": 2,
   "id": "6ecdd6a6-8364-4bdf-8ddc-1e2257c494f0",
   "metadata": {},
   "outputs": [
    {
     "name": "stdout",
     "output_type": "stream",
     "text": [
      "Es maravilloso que estes interesado en Julia\n"
     ]
    }
   ],
   "source": [
    "println(\"Es maravilloso que estes interesado en Julia\")"
   ]
  },
  {
   "cell_type": "markdown",
   "id": "591a8f90-e1cc-4d81-829e-d3efd2a465cd",
   "metadata": {},
   "source": [
    "## Asignación de Variables\n",
    "\n",
    "La asignción de variables en Julia es similar a la asignación en otros lenguajes de programación. Sin embargo, presenta una mayor flexibilidad.  "
   ]
  },
  {
   "cell_type": "code",
   "execution_count": 3,
   "id": "db96c01e-b6b0-41a5-b10d-ec60e76de05a",
   "metadata": {},
   "outputs": [
    {
     "data": {
      "text/plain": [
       "Int64"
      ]
     },
     "execution_count": 3,
     "metadata": {},
     "output_type": "execute_result"
    }
   ],
   "source": [
    "edad=23\n",
    "typeof(edad)"
   ]
  },
  {
   "cell_type": "code",
   "execution_count": 4,
   "id": "88558d4a-87d7-447a-a648-c4a46600bac8",
   "metadata": {},
   "outputs": [
    {
     "data": {
      "text/plain": [
       "Float64"
      ]
     },
     "execution_count": 4,
     "metadata": {},
     "output_type": "execute_result"
    }
   ],
   "source": [
    "Altura=1.84\n",
    "typeof(Altura)"
   ]
  },
  {
   "cell_type": "code",
   "execution_count": 5,
   "id": "c6a79d55-1e37-4d64-9bfa-0d1b06f1d431",
   "metadata": {},
   "outputs": [
    {
     "data": {
      "text/plain": [
       "Int64"
      ]
     },
     "execution_count": 5,
     "metadata": {},
     "output_type": "execute_result"
    }
   ],
   "source": [
    "🙀 = 23\n",
    "typeof(🙀)"
   ]
  },
  {
   "cell_type": "markdown",
   "id": "ef967b93-c38b-49b2-81bf-f5c80908ec9b",
   "metadata": {},
   "source": [
    "Si!!! puedes utilizar emojis para definir variables. También puedes realizar operaciones con ellos, como cualquier variable."
   ]
  },
  {
   "cell_type": "code",
   "execution_count": 7,
   "id": "cf1c5129-39f3-4089-91c8-05479161b343",
   "metadata": {},
   "outputs": [
    {
     "data": {
      "text/plain": [
       "46"
      ]
     },
     "execution_count": 7,
     "metadata": {},
     "output_type": "execute_result"
    }
   ],
   "source": [
    "😁 = 23\n",
    "🙀 + 😁"
   ]
  },
  {
   "cell_type": "code",
   "execution_count": 8,
   "id": "be1ecdb5-771b-4d2b-8238-ae46dc65c82f",
   "metadata": {},
   "outputs": [
    {
     "data": {
      "text/plain": [
       "true"
      ]
     },
     "execution_count": 8,
     "metadata": {},
     "output_type": "execute_result"
    }
   ],
   "source": [
    "🙀 - 😁 == 0"
   ]
  },
  {
   "cell_type": "code",
   "execution_count": 10,
   "id": "53e164fe-9bd0-4ac7-a1ff-1e818da9e4f0",
   "metadata": {},
   "outputs": [
    {
     "data": {
      "text/plain": [
       "String"
      ]
     },
     "execution_count": 10,
     "metadata": {},
     "output_type": "execute_result"
    }
   ],
   "source": [
    "🙀 =\"Soy un gato\"\n",
    "typeof(🙀)"
   ]
  },
  {
   "cell_type": "markdown",
   "id": "706df4e2-67fb-43c6-a59b-24342e4f4bae",
   "metadata": {},
   "source": [
    "La lógica de operación matematica es la misma que concualquier otro programa"
   ]
  },
  {
   "cell_type": "code",
   "execution_count": 12,
   "id": "04e62f94-233f-40c9-b994-9a3e5ff66078",
   "metadata": {},
   "outputs": [
    {
     "data": {
      "text/plain": [
       "529"
      ]
     },
     "execution_count": 12,
     "metadata": {},
     "output_type": "execute_result"
    }
   ],
   "source": [
    "Potencia = 😁 ^ 2"
   ]
  },
  {
   "cell_type": "code",
   "execution_count": 13,
   "id": "41604cdf-88e1-4cfa-bbbf-9067f97912eb",
   "metadata": {},
   "outputs": [
    {
     "data": {
      "text/plain": [
       "1"
      ]
     },
     "execution_count": 13,
     "metadata": {},
     "output_type": "execute_result"
    }
   ],
   "source": [
    "modulo = 33 % 2"
   ]
  },
  {
   "cell_type": "code",
   "execution_count": 14,
   "id": "7efdfee6-b05c-4eed-9937-845f395984df",
   "metadata": {},
   "outputs": [
    {
     "data": {
      "text/plain": [
       "0"
      ]
     },
     "execution_count": 14,
     "metadata": {},
     "output_type": "execute_result"
    }
   ],
   "source": [
    "modulo = 32 % 2"
   ]
  },
  {
   "cell_type": "markdown",
   "id": "95fd6fd7-98aa-4010-9375-5e2e1f2b5a23",
   "metadata": {},
   "source": [
    "## Strings (cadenas de texto)\n",
    "\n",
    "Para la creación de strings podemos utilizar `\"_\"` ó `\"\"\"_\"\"\"` para indicar el string"
   ]
  },
  {
   "cell_type": "code",
   "execution_count": 15,
   "id": "a8ce0f83-d0d2-4350-a89a-33faea210362",
   "metadata": {},
   "outputs": [
    {
     "data": {
      "text/plain": [
       "\"primer string\""
      ]
     },
     "execution_count": 15,
     "metadata": {},
     "output_type": "execute_result"
    }
   ],
   "source": [
    "Texto1= \"primer string\""
   ]
  },
  {
   "cell_type": "code",
   "execution_count": 17,
   "id": "07336146-705f-47c8-9255-2f78ba95e544",
   "metadata": {},
   "outputs": [
    {
     "data": {
      "text/plain": [
       "\"segundo string\""
      ]
     },
     "execution_count": 17,
     "metadata": {},
     "output_type": "execute_result"
    }
   ],
   "source": [
    "Texto2= \"\"\"segundo string\"\"\""
   ]
  },
  {
   "cell_type": "markdown",
   "id": "d3f23389-f705-4c4f-9a43-3ac1c7ef95f7",
   "metadata": {},
   "source": [
    "Una diferencia importante enter los dos tipos de creación del string es la posibilidad de utilizar comillas al interior del string. La notación `\"\"\"_\"\"\"` permite asignar comillas al interior del string"
   ]
  },
  {
   "cell_type": "code",
   "execution_count": 18,
   "id": "03f9bcd6-040e-4405-9240-ab6604ca6d87",
   "metadata": {},
   "outputs": [
    {
     "data": {
      "text/plain": [
       "\"este es mi \\\"tercer\\\" string\""
      ]
     },
     "execution_count": 18,
     "metadata": {},
     "output_type": "execute_result"
    }
   ],
   "source": [
    "Texto3= \"\"\"este es mi \"tercer\" string\"\"\""
   ]
  },
  {
   "cell_type": "markdown",
   "id": "7b5eb750-80f0-415f-b5aa-d574780fb59a",
   "metadata": {},
   "source": [
    "La notación `\"_\"` NO permite asignar comillas al interior del string. En la siguiente línea de código se generará un error"
   ]
  },
  {
   "cell_type": "code",
   "execution_count": 19,
   "id": "f8a5d853-c293-4950-a02c-4e08c9e4ed54",
   "metadata": {},
   "outputs": [
    {
     "ename": "LoadError",
     "evalue": "syntax: cannot juxtapose string literal",
     "output_type": "error",
     "traceback": [
      "syntax: cannot juxtapose string literal",
      "",
      "Stacktrace:",
      " [1] top-level scope",
      "   @ In[19]:1",
      " [2] eval",
      "   @ ./boot.jl:360 [inlined]",
      " [3] include_string(mapexpr::typeof(REPL.softscope), mod::Module, code::String, filename::String)",
      "   @ Base ./loading.jl:1116"
     ]
    }
   ],
   "source": [
    "Texto4= \"este \"cuarto\" string generará un error\""
   ]
  },
  {
   "cell_type": "markdown",
   "id": "ed8e8cc4-288b-4c64-9482-cadc45bd1e9c",
   "metadata": {},
   "source": [
    "Una diferencia importante con otros lenguajes de programación es que el uso de `'_'` ya no se podra utilizar para definir strings, unicamente para definir caracterees (una unica letra)"
   ]
  },
  {
   "cell_type": "code",
   "execution_count": 21,
   "id": "e8439684-a5e2-4972-ae39-292971012959",
   "metadata": {},
   "outputs": [
    {
     "data": {
      "text/plain": [
       "Char"
      ]
     },
     "execution_count": 21,
     "metadata": {},
     "output_type": "execute_result"
    }
   ],
   "source": [
    "typeof('w')"
   ]
  },
  {
   "cell_type": "code",
   "execution_count": 22,
   "id": "19c72a7b-37de-4c96-bd16-81e77b95f628",
   "metadata": {},
   "outputs": [
    {
     "ename": "LoadError",
     "evalue": "syntax: invalid character literal",
     "output_type": "error",
     "traceback": [
      "syntax: invalid character literal",
      "",
      "Stacktrace:",
      " [1] top-level scope",
      "   @ In[22]:1",
      " [2] eval",
      "   @ ./boot.jl:360 [inlined]",
      " [3] include_string(mapexpr::typeof(REPL.softscope), mod::Module, code::String, filename::String)",
      "   @ Base ./loading.jl:1116"
     ]
    }
   ],
   "source": [
    "Texto5= 'este \"quinto\" string generará un error'"
   ]
  },
  {
   "cell_type": "markdown",
   "id": "01dfaf18-238f-47f1-ace3-1321d10efeab",
   "metadata": {},
   "source": [
    "Para la Interpolación de strings utilizaremos el simbolo `$`para insertar variables dentro de un string especifico"
   ]
  },
  {
   "cell_type": "code",
   "execution_count": 25,
   "id": "29d1d799-3b68-4eb2-a607-56b14253792d",
   "metadata": {},
   "outputs": [
    {
     "name": "stdout",
     "output_type": "stream",
     "text": [
      "Tengo 40 años de edad, soy padre de 2 niños y tengo 2 perros\n",
      "siempre tengo 4 ángeles conmigo\n"
     ]
    }
   ],
   "source": [
    "edad=\"40 años de edad\"\n",
    "hijos=2\n",
    "mascotas=2\n",
    "println(\"Tengo $edad, soy padre de $hijos niños y tengo $mascotas perros\")\n",
    "println(\"siempre tengo $(hijos+ mascotas) ángeles conmigo\")"
   ]
  },
  {
   "cell_type": "markdown",
   "id": "4832f516-b70d-42ca-b193-7ec001ebf646",
   "metadata": {},
   "source": [
    "Finalmente, para la concatenación podemos utilizar la función `string()`"
   ]
  },
  {
   "cell_type": "code",
   "execution_count": 29,
   "id": "13b382de-a937-4cc7-ba1f-47072c025a57",
   "metadata": {},
   "outputs": [
    {
     "data": {
      "text/plain": [
       "\"Soy un string, yo también\""
      ]
     },
     "execution_count": 29,
     "metadata": {},
     "output_type": "execute_result"
    }
   ],
   "source": [
    "string(\"Soy un string, \", \"yo también\")"
   ]
  },
  {
   "cell_type": "markdown",
   "id": "f4cbfed7-01a3-4dc7-a4e1-4beb76a24134",
   "metadata": {},
   "source": [
    "También podemos utilizar el operador de multiplicación `*`"
   ]
  },
  {
   "cell_type": "code",
   "execution_count": 30,
   "id": "be70ab63-08ad-4bc2-9efb-b936f0060f4b",
   "metadata": {},
   "outputs": [
    {
     "data": {
      "text/plain": [
       "\"Soy un string, yo también\""
      ]
     },
     "execution_count": 30,
     "metadata": {},
     "output_type": "execute_result"
    }
   ],
   "source": [
    "T1=\"Soy un string, \";\n",
    "T2=\"yo también\"\n",
    "T1*T2"
   ]
  },
  {
   "cell_type": "markdown",
   "id": "9d73ee21-6927-44dd-9cc4-2b382d304321",
   "metadata": {},
   "source": [
    "# Referencias\n",
    "\n",
    "1. JuliaAcademy: [Getting started](https://github.com/JuliaAcademy/Introduction-to-Julia/blob/main/0%20-%20Getting%20started.ipynb)\n",
    "2. JuliaAcademy: [Strings](https://github.com/JuliaAcademy/Introduction-to-Julia/blob/main/1%20-%20Strings.ipynb)"
   ]
  }
 ],
 "metadata": {
  "kernelspec": {
   "display_name": "Julia 1.6.3",
   "language": "julia",
   "name": "julia-1.6"
  },
  "language_info": {
   "file_extension": ".jl",
   "mimetype": "application/julia",
   "name": "julia",
   "version": "1.6.3"
  },
  "toc-showcode": false
 },
 "nbformat": 4,
 "nbformat_minor": 5
}
