{
 "cells": [
  {
   "cell_type": "markdown",
   "id": "d79af3d6-313b-4e89-ab8a-232237fc8215",
   "metadata": {},
   "source": [
    "# Funciones Julia\n",
    "\n",
    "# Objetivo\n",
    "* Aprender comandos basicos para definición de funciones en Julia\n",
    "\n",
    "# Enlaces recomendados\n",
    "\n",
    "Es un lenguaje de programación multiplataforma, dinámico de alto desempeño de acceso abierto que se aha convertido en una herramienta de uso común en ciencia de datos. Mayor información en el sitio web oficial: [Julia Homepage](https://julialang.org/)\n",
    "\n",
    "Esta guía introductoria esta basada en la sesión introductoria ofrecida por Julia Academia, todos los notebooks de la sesión estan disponibles en Github: \n",
    "\n",
    "1. [Introduction-to-Julia](https://github.com/JuliaAcademy/Introduction-to-Julia)\n",
    "\n",
    "Puedes accesar a sesiones gratuitas y mucha información adicional a través de los siguientes enlaces:\n",
    "\n",
    "1. [Julia Academy](https://julialang.org/learning/)\n",
    "2. [The Julia Programming Language:Youtube](https://www.youtube.com/user/JuliaLanguage/playlists)\n",
    "3. [The Julia Language Blog](https://julialang.org/blog/)\n",
    "3. [Community Standards](https://julialang.org/community/)\n",
    "4. [Julia 1.6 Documentation](https://docs.julialang.org/en/v1/)\n",
    "\n",
    "Comencemos con algunos aspectos básicos.\n",
    "\n",
    "## Declaración de Funciones\n",
    "\n",
    "Existen tres formas de declarar funciones en Julia, veamos la primera opción:"
   ]
  },
  {
   "cell_type": "code",
   "execution_count": 34,
   "id": "6ecdd6a6-8364-4bdf-8ddc-1e2257c494f0",
   "metadata": {},
   "outputs": [
    {
     "data": {
      "text/plain": [
       "raiz (generic function with 1 method)"
      ]
     },
     "execution_count": 34,
     "metadata": {},
     "output_type": "execute_result"
    }
   ],
   "source": [
    "function raiz(x)\n",
    "    x^0.5\n",
    "end"
   ]
  },
  {
   "cell_type": "markdown",
   "id": "591a8f90-e1cc-4d81-829e-d3efd2a465cd",
   "metadata": {
    "tags": []
   },
   "source": [
    "Una vez definida, podemos invocar la función por su nombre."
   ]
  },
  {
   "cell_type": "code",
   "execution_count": 35,
   "id": "db96c01e-b6b0-41a5-b10d-ec60e76de05a",
   "metadata": {},
   "outputs": [
    {
     "data": {
      "text/plain": [
       "2.0"
      ]
     },
     "execution_count": 35,
     "metadata": {},
     "output_type": "execute_result"
    }
   ],
   "source": [
    "raiz(4)"
   ]
  },
  {
   "cell_type": "markdown",
   "id": "ef967b93-c38b-49b2-81bf-f5c80908ec9b",
   "metadata": {},
   "source": [
    "Segunda opción:"
   ]
  },
  {
   "cell_type": "code",
   "execution_count": 16,
   "id": "88558d4a-87d7-447a-a648-c4a46600bac8",
   "metadata": {},
   "outputs": [
    {
     "data": {
      "text/plain": [
       "potencia (generic function with 1 method)"
      ]
     },
     "execution_count": 16,
     "metadata": {},
     "output_type": "execute_result"
    }
   ],
   "source": [
    "potencia(x) = x^2"
   ]
  },
  {
   "cell_type": "code",
   "execution_count": 37,
   "id": "c6a79d55-1e37-4d64-9bfa-0d1b06f1d431",
   "metadata": {},
   "outputs": [
    {
     "data": {
      "text/plain": [
       "16"
      ]
     },
     "execution_count": 37,
     "metadata": {},
     "output_type": "execute_result"
    }
   ],
   "source": [
    "potencia(4)"
   ]
  },
  {
   "cell_type": "markdown",
   "id": "706df4e2-67fb-43c6-a59b-24342e4f4bae",
   "metadata": {},
   "source": [
    "La tercera opción para definir nuestra función es la siguiente:"
   ]
  },
  {
   "cell_type": "code",
   "execution_count": 38,
   "id": "cf1c5129-39f3-4089-91c8-05479161b343",
   "metadata": {},
   "outputs": [
    {
     "data": {
      "text/plain": [
       "#1 (generic function with 1 method)"
      ]
     },
     "execution_count": 38,
     "metadata": {},
     "output_type": "execute_result"
    }
   ],
   "source": [
    "Potencia3 = x-> x^3"
   ]
  },
  {
   "cell_type": "code",
   "execution_count": 39,
   "id": "be1ecdb5-771b-4d2b-8238-ae46dc65c82f",
   "metadata": {},
   "outputs": [
    {
     "data": {
      "text/plain": [
       "64"
      ]
     },
     "execution_count": 39,
     "metadata": {},
     "output_type": "execute_result"
    }
   ],
   "source": [
    "Potencia3(4)"
   ]
  },
  {
   "cell_type": "markdown",
   "id": "95fd6fd7-98aa-4010-9375-5e2e1f2b5a23",
   "metadata": {},
   "source": [
    "## Parámetros de entrada Funciones\n",
    "\n",
    "Puna vez definida una función podemos ingresar los parámetros en diferentes formatos. En la siguiente celda de códifo generaremos una matriz (4x4) de numeros aleatorios `rand`.  Luego utilizaremos esta matriz como parámetros de la función de `Potencia3` (que fue definida en la celda de código anterior)"
   ]
  },
  {
   "cell_type": "code",
   "execution_count": 41,
   "id": "53e164fe-9bd0-4ac7-a1ff-1e818da9e4f0",
   "metadata": {},
   "outputs": [
    {
     "data": {
      "text/plain": [
       "4×4 Matrix{Float64}:\n",
       " 0.408884  0.500317  0.326158  0.112135\n",
       " 0.134923  0.48225   0.362558  0.918003\n",
       " 0.427995  0.307838  0.140805  0.00794443\n",
       " 0.133112  0.778299  0.833008  0.710117"
      ]
     },
     "execution_count": 41,
     "metadata": {},
     "output_type": "execute_result"
    }
   ],
   "source": [
    "M = rand(4,4)\n",
    "M"
   ]
  },
  {
   "cell_type": "code",
   "execution_count": 42,
   "id": "04e62f94-233f-40c9-b994-9a3e5ff66078",
   "metadata": {},
   "outputs": [
    {
     "data": {
      "text/plain": [
       "4×4 Matrix{Float64}:\n",
       " 0.517153  1.09718   0.909851  1.04593\n",
       " 0.905426  1.92645   1.61047   1.8767\n",
       " 0.332952  0.685788  0.56015   0.651244\n",
       " 1.02624   2.19251   1.83152   2.10589"
      ]
     },
     "execution_count": 42,
     "metadata": {},
     "output_type": "execute_result"
    }
   ],
   "source": [
    "Potencia3(M)"
   ]
  },
  {
   "cell_type": "markdown",
   "id": "d3f23389-f705-4c4f-9a43-3ac1c7ef95f7",
   "metadata": {},
   "source": [
    "Para el siguiente ejemplo definiremos una nueva función"
   ]
  },
  {
   "cell_type": "code",
   "execution_count": 47,
   "id": "41604cdf-88e1-4cfa-bbbf-9067f97912eb",
   "metadata": {},
   "outputs": [
    {
     "data": {
      "text/plain": [
       "saludo (generic function with 1 method)"
      ]
     },
     "execution_count": 47,
     "metadata": {},
     "output_type": "execute_result"
    }
   ],
   "source": [
    "saludo(nombre)=println(\"Hola $nombre, es maravilloso que quieras aprender Julia!\")"
   ]
  },
  {
   "cell_type": "code",
   "execution_count": 46,
   "id": "7efdfee6-b05c-4eed-9937-845f395984df",
   "metadata": {},
   "outputs": [
    {
     "name": "stdout",
     "output_type": "stream",
     "text": [
      "Hola carl, es maravilloso que quieras aprender Julia\n"
     ]
    }
   ],
   "source": [
    "saludo(\"carl\")"
   ]
  },
  {
   "cell_type": "markdown",
   "id": "7b5eb750-80f0-415f-b5aa-d574780fb59a",
   "metadata": {},
   "source": [
    "La función `saludo` aceptará cualquier variable valida"
   ]
  },
  {
   "cell_type": "code",
   "execution_count": 48,
   "id": "a8ce0f83-d0d2-4350-a89a-33faea210362",
   "metadata": {},
   "outputs": [
    {
     "name": "stdout",
     "output_type": "stream",
     "text": [
      "Hola 1234, es maravilloso que quieras aprender Julia!\n"
     ]
    }
   ],
   "source": [
    "saludo(1234)"
   ]
  },
  {
   "cell_type": "markdown",
   "id": "ed8e8cc4-288b-4c64-9482-cadc45bd1e9c",
   "metadata": {},
   "source": [
    "El número 1234, es un parámetro valido, asi que la función `saludo` lo puede aceptar como varible de entrada."
   ]
  },
  {
   "cell_type": "markdown",
   "id": "3521816f-a825-4e53-bd56-90dc68177c4b",
   "metadata": {},
   "source": [
    "# Funciones de cambio de contenido\n",
    "\n",
    "Las funciones que incorporan el signo `!` alteran el valor de los parámetros contenidos."
   ]
  },
  {
   "cell_type": "code",
   "execution_count": 5,
   "id": "a9c59322-e895-4eca-8455-be64b1810323",
   "metadata": {},
   "outputs": [
    {
     "data": {
      "text/plain": [
       "3-element Vector{Int64}:\n",
       " 12\n",
       " 35\n",
       " 44"
      ]
     },
     "execution_count": 5,
     "metadata": {},
     "output_type": "execute_result"
    }
   ],
   "source": [
    "H=[44,35,12]\n",
    "sort!(H)\n",
    "H"
   ]
  },
  {
   "cell_type": "markdown",
   "id": "f304d39f-5c59-4c50-b8ac-0b369bd755ca",
   "metadata": {},
   "source": [
    "Si después de la función `sort` no adcionamos el signo `!` el orden de la matriz no es cambiado en forma definitiva."
   ]
  },
  {
   "cell_type": "code",
   "execution_count": 8,
   "id": "e1391ba2-ee42-4ed7-b97f-506abe07638a",
   "metadata": {},
   "outputs": [
    {
     "data": {
      "text/plain": [
       "3-element Vector{Int64}:\n",
       " 44\n",
       " 35\n",
       " 12"
      ]
     },
     "execution_count": 8,
     "metadata": {},
     "output_type": "execute_result"
    }
   ],
   "source": [
    "J=[44,35,12]\n",
    "sort(J)\n",
    "J"
   ]
  },
  {
   "cell_type": "markdown",
   "id": "5637869c-ef6a-45b6-a4f8-26e8349fbf95",
   "metadata": {},
   "source": [
    "# Función map\n",
    "\n",
    "`map` es una función de orden superior que permite aplicar la función definida sobre cada uno de los argumentos de entrada. apliquemos la función `potencia(x)` a un vector utlizando la función `map`."
   ]
  },
  {
   "cell_type": "code",
   "execution_count": 31,
   "id": "493a6a4f-dad8-4f4b-b16b-9520fd95c375",
   "metadata": {},
   "outputs": [
    {
     "data": {
      "text/plain": [
       "3-element Vector{Int64}:\n",
       "  4\n",
       " 16\n",
       " 36"
      ]
     },
     "execution_count": 31,
     "metadata": {},
     "output_type": "execute_result"
    }
   ],
   "source": [
    "map(potencia,[2,4,6])"
   ]
  },
  {
   "cell_type": "markdown",
   "id": "ae5f3c78-34e8-4026-b18d-3cb052d44682",
   "metadata": {},
   "source": [
    "# Broadcating\n",
    "\n",
    "colocando el simbolo `.` entre una función y los argumentos de esta función, se aplicara la función a cada uno de los elementos contenidos en los parámetros de entrada"
   ]
  },
  {
   "cell_type": "code",
   "execution_count": 27,
   "id": "bf90ebcc-3409-42be-b510-d3c4aa23165a",
   "metadata": {},
   "outputs": [
    {
     "data": {
      "text/plain": [
       "3×3 Base.Matrix{Int64}:\n",
       " 1  2  3\n",
       " 3  4  5\n",
       " 5  6  7"
      ]
     },
     "execution_count": 27,
     "metadata": {},
     "output_type": "execute_result"
    }
   ],
   "source": [
    "M=[i+2*j for j in 0:2, i in 1:3]"
   ]
  },
  {
   "cell_type": "markdown",
   "id": "083ff0c1-f532-45a4-804a-a1ed786889e1",
   "metadata": {},
   "source": [
    "Utilicemos la función `potencia(x)` (definida en la línea 36 de este notebok) para explicar el efecto de la adición del signo `.` entre la función y sus patrámetros."
   ]
  },
  {
   "cell_type": "code",
   "execution_count": 28,
   "id": "ebe9fdc9-1d25-4cc3-bcc4-f6c2d1d5dce4",
   "metadata": {},
   "outputs": [
    {
     "data": {
      "text/plain": [
       "3×3 Base.Matrix{Int64}:\n",
       " 22  28  34\n",
       " 40  52  64\n",
       " 58  76  94"
      ]
     },
     "execution_count": 28,
     "metadata": {},
     "output_type": "execute_result"
    }
   ],
   "source": [
    "potencia(M)"
   ]
  },
  {
   "cell_type": "markdown",
   "id": "41692991-d769-44eb-ae1a-00cbbbb4bb57",
   "metadata": {},
   "source": [
    "El resultado de de `potencia(M)` es `M*M`. Mientras que el resultado de `potencia.(M)` es el cuadrado de cada uno de los elementos que componen la matriz."
   ]
  },
  {
   "cell_type": "code",
   "execution_count": 29,
   "id": "a31c2c98-ddba-4995-bdd1-f0ed985373a2",
   "metadata": {},
   "outputs": [
    {
     "data": {
      "text/plain": [
       "3×3 Base.Matrix{Int64}:\n",
       "  1   4   9\n",
       "  9  16  25\n",
       " 25  36  49"
      ]
     },
     "execution_count": 29,
     "metadata": {},
     "output_type": "execute_result"
    }
   ],
   "source": [
    "potencia.(M)"
   ]
  },
  {
   "cell_type": "markdown",
   "id": "76948cf4-75af-42d5-9660-9f052accbe28",
   "metadata": {},
   "source": [
    "# Referencias\n",
    "\n",
    "1. JuliaAcademy: [Functions](https://github.com/JuliaAcademy/Introduction-to-Julia/blob/main/5%20-%20Functions.ipynb)"
   ]
  }
 ],
 "metadata": {
  "kernelspec": {
   "display_name": "Julia 1.6.3",
   "language": "julia",
   "name": "julia-1.6"
  },
  "language_info": {
   "file_extension": ".jl",
   "mimetype": "application/julia",
   "name": "julia",
   "version": "1.6.3"
  },
  "toc-showcode": false
 },
 "nbformat": 4,
 "nbformat_minor": 5
}
